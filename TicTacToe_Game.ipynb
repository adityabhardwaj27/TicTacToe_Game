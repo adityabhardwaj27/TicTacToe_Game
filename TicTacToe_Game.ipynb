{
 "cells": [
  {
   "cell_type": "code",
   "execution_count": 68,
   "id": "f584b2c7-53cb-4094-ac68-71c20117510b",
   "metadata": {},
   "outputs": [],
   "source": [
    "from IPython.display import clear_output\n",
    "\n",
    "def display_board(board):\n",
    "    clear_output()\n",
    "    print(' | |')\n",
    "    print(board[1]+'|'+board[2]+'|'+board[3])\n",
    "    print('------')\n",
    "    print(board[4]+'|'+board[5]+'|'+board[6])\n",
    "    print(' | |')\n",
    "    print('------')\n",
    "    print(board[7]+'|'+board[8]+'|'+board[9])\n",
    "    print(' | |')"
   ]
  },
  {
   "cell_type": "code",
   "execution_count": 5,
   "id": "bcde3b0f-5f4b-4b73-a2ff-4f39cf47f047",
   "metadata": {},
   "outputs": [],
   "source": [
    "def player_input():\n",
    "    \n",
    "\n",
    "    marker = ''\n",
    "\n",
    "    while not ( marker == 'X' or marker == 'O'):\n",
    "        marker = input('Player1: choose X or O: ').upper()\n",
    "    if marker == 'X':\n",
    "        return('X','O')\n",
    "    else:\n",
    "        return('O','X')"
   ]
  },
  {
   "cell_type": "code",
   "execution_count": 36,
   "id": "dfc57ae1-83ab-4d0f-b60b-5ea1043c0b08",
   "metadata": {},
   "outputs": [],
   "source": [
    "def place_marker(board, marker, position):\n",
    "    board[position] = marker"
   ]
  },
  {
   "cell_type": "code",
   "execution_count": 9,
   "id": "10c78e25-b28e-41d9-ae32-5f821ef8e10a",
   "metadata": {},
   "outputs": [],
   "source": [
    "def win_check(board,mark):\n",
    "    return ((board[1]== mark and board[2] == mark and board[3] ==mark) or\n",
    "    (board[4]== mark and board[5] == mark and board[6] ==mark) or\n",
    "    (board[7]== mark and board[8] == mark and board[9] ==mark) or\n",
    "    (board[1]== mark and board[4] == mark and board[7] ==mark) or\n",
    "    (board[2]== mark and board[5] == mark and board[8] ==mark) or\n",
    "    (board[3]== mark and board[6] == mark and board[9] ==mark) or\n",
    "    (board[3]== mark and board[5] == mark and board[7] ==mark) or\n",
    "    (board[1]== mark and board[5] == mark and board[9] ==mark))"
   ]
  },
  {
   "cell_type": "code",
   "execution_count": 11,
   "id": "69af283e-1e91-4a05-9c1c-ab35d17b920b",
   "metadata": {},
   "outputs": [],
   "source": [
    "import random\n",
    "def choose_first():\n",
    "    flip = random.randint(0,1)\n",
    "\n",
    "    if flip == 0:\n",
    "        return 'Player 1'\n",
    "    else:\n",
    "        return 'Player 2'"
   ]
  },
  {
   "cell_type": "code",
   "execution_count": 50,
   "id": "65e6d828-7869-44d7-9aac-8377c376cb8e",
   "metadata": {},
   "outputs": [],
   "source": [
    "def space_check(board, position):\n",
    "    return board[position] == ' '    "
   ]
  },
  {
   "cell_type": "code",
   "execution_count": 52,
   "id": "707d0caf-b21a-49dd-b2bc-69e26144867f",
   "metadata": {},
   "outputs": [],
   "source": [
    "def full_board_check(board):\n",
    "\n",
    "    for i in range(1,10):\n",
    "        if space_check(board,i):\n",
    "            return False\n",
    "    return True        "
   ]
  },
  {
   "cell_type": "code",
   "execution_count": 58,
   "id": "e643ccbe-0692-40fe-b829-2170062d69cd",
   "metadata": {},
   "outputs": [],
   "source": [
    "def player_choice(board):\n",
    "    position = 0\n",
    "\n",
    "    while position not in [1,2,3,4,5,6,7,8,9] or not space_check(board,position):\n",
    "        position = int(input('choose a position: (1-9) '))\n",
    "\n",
    "    return position"
   ]
  },
  {
   "cell_type": "code",
   "execution_count": 60,
   "id": "67559e86-8b8d-4008-b99f-b717a7753112",
   "metadata": {},
   "outputs": [],
   "source": [
    "def replay():\n",
    "    choice = input(\"Play again? Enter Yes or No\")\n",
    "    return choice=='Yes'"
   ]
  },
  {
   "cell_type": "code",
   "execution_count": null,
   "id": "eb244eaa-b620-4602-b520-37fd3daf49ce",
   "metadata": {},
   "outputs": [
    {
     "name": "stdout",
     "output_type": "stream",
     "text": [
      " | |\n",
      "X|X| \n",
      "------\n",
      " |O| \n",
      " | |\n",
      "------\n",
      " | | \n",
      " | |\n"
     ]
    }
   ],
   "source": [
    "print('Welcome to tic tac toe')\n",
    "\n",
    "while True:\n",
    "\n",
    "    \n",
    "    the_board = [' ']*10\n",
    "    player1_marker,player2_marker = player_input()\n",
    "    \n",
    "    turn = choose_first()\n",
    "    print(turn + 'will go first')\n",
    "    \n",
    "    play_game = input('Ready to play? y or n?')\n",
    "\n",
    "    if play_game == 'y':\n",
    "        game_on = True\n",
    "    else:\n",
    "        game_on= False\n",
    "\n",
    "\n",
    "    while game_on:\n",
    "        if turn == 'Player 1':\n",
    "            display_board(the_board)\n",
    "            position = player_choice(the_board)\n",
    "            place_marker(the_board,player1_marker,position)\n",
    "\n",
    "            if win_check(the_board,player1_marker):\n",
    "                display_board(the_board)\n",
    "                print('Player 1 WON!!')\n",
    "                game_on = False\n",
    "            else:\n",
    "                if full_board_check(the_board):\n",
    "                    display_board(the_board)\n",
    "                    print(\"TIE GAME!\")\n",
    "                    game_on = False\n",
    "                else:\n",
    "                    turn = 'Player 2'\n",
    "        else:\n",
    "            \n",
    "            display_board(the_board)\n",
    "            position = player_choice(the_board)\n",
    "            place_marker(the_board,player2_marker,position)\n",
    "\n",
    "            if win_check(the_board,player2_marker):\n",
    "                display_board(the_board)\n",
    "                print('Player 2 WON!!')\n",
    "                game_on = False\n",
    "            else:\n",
    "                if full_board_check(the_board):\n",
    "                    display_board(the_board)\n",
    "                    print(\"TIE GAME!\")\n",
    "                    game_on = False\n",
    "                else:\n",
    "                    turn = 'Player 1'\n",
    "                    \n",
    "                    \n",
    "\n",
    "\n",
    "\n",
    "    if not replay ():\n",
    "        break"
   ]
  },
  {
   "cell_type": "code",
   "execution_count": null,
   "id": "2c064372-831e-4cfd-a45f-8ec95665d3db",
   "metadata": {},
   "outputs": [],
   "source": []
  }
 ],
 "metadata": {
  "kernelspec": {
   "display_name": "Python 3 (ipykernel)",
   "language": "python",
   "name": "python3"
  },
  "language_info": {
   "codemirror_mode": {
    "name": "ipython",
    "version": 3
   },
   "file_extension": ".py",
   "mimetype": "text/x-python",
   "name": "python",
   "nbconvert_exporter": "python",
   "pygments_lexer": "ipython3",
   "version": "3.11.7"
  }
 },
 "nbformat": 4,
 "nbformat_minor": 5
}
